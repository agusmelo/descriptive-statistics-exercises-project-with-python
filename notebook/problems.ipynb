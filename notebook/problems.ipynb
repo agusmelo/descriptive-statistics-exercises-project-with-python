{
    "cells": [
        {
            "cell_type": "markdown",
            "id": "ac622319",
            "metadata": {},
            "source": [
                "# Descriptive Statistics Problems"
            ]
        },
        {
            "cell_type": "markdown",
            "id": "aa8993e4",
            "metadata": {},
            "source": [
                "### Exercise 1"
            ]
        },
        {
            "cell_type": "markdown",
            "id": "5e0ab0d5",
            "metadata": {},
            "source": [
                "As right now, you are familliar with numpy, we are going to use numpy to get some data statistics.\n",
                "\n",
                "First, lets create an array of 20 elements distributed normally (Gaussian):\n",
                "\n",
                "Use the np.random.normal function to create some data, using 0,1,20 as parameters because we want a one dimentional array of 20 numbers distributed normally (Gaussian)"
            ]
        },
        {
            "cell_type": "code",
            "execution_count": 5,
            "id": "34720ab6",
            "metadata": {},
            "outputs": [
                {
                    "data": {
                        "text/plain": [
                            "array([-10.85630603,   9.97345447,   2.82978498, ...,  20.40431995,\n",
                            "        10.15916973, -16.33788169])"
                        ]
                    },
                    "execution_count": 5,
                    "metadata": {},
                    "output_type": "execute_result"
                }
            ],
            "source": [
                "#import libraries\n",
                "import numpy as np\n",
                "\n",
                "# Set seed in order to get similar results\n",
                "np.random.seed(123)\n",
                "\n",
                "# create the data\n",
                "num = np.random.normal(0,10,3000)\n",
                "\n",
                "#print results\n",
                "num"
            ]
        },
        {
            "cell_type": "code",
            "execution_count": 6,
            "id": "49c55822",
            "metadata": {},
            "outputs": [
                {
                    "data": {
                        "text/plain": [
                            "-0.06940626102629906"
                        ]
                    },
                    "execution_count": 6,
                    "metadata": {},
                    "output_type": "execute_result"
                }
            ],
            "source": [
                "#Use numpy to get the mean of your data\n",
                "np.mean(num)"
            ]
        },
        {
            "cell_type": "code",
            "execution_count": 7,
            "id": "03529459",
            "metadata": {},
            "outputs": [
                {
                    "data": {
                        "text/plain": [
                            "96.14056359531011"
                        ]
                    },
                    "execution_count": 7,
                    "metadata": {},
                    "output_type": "execute_result"
                }
            ],
            "source": [
                "#get the variance of your data\n",
                "np.var(num)"
            ]
        },
        {
            "cell_type": "code",
            "execution_count": 8,
            "id": "e53f30c5",
            "metadata": {},
            "outputs": [
                {
                    "data": {
                        "text/plain": [
                            "9.805129453266291"
                        ]
                    },
                    "execution_count": 8,
                    "metadata": {},
                    "output_type": "execute_result"
                }
            ],
            "source": [
                "# Standard deviation\n",
                "np.std(x)"
            ]
        },
        {
            "cell_type": "code",
            "execution_count": 9,
            "id": "9bce852f",
            "metadata": {},
            "outputs": [
                {
                    "name": "stdout",
                    "output_type": "stream",
                    "text": [
                        "ModeResult(mode=array([-38.01378197]), count=array([1]))\n"
                    ]
                },
                {
                    "name": "stderr",
                    "output_type": "stream",
                    "text": [
                        "/tmp/ipykernel_1617/3834551735.py:6: FutureWarning: Unlike other reduction functions (e.g. `skew`, `kurtosis`), the default behavior of `mode` typically preserves the axis it acts along. In SciPy 1.11.0, this behavior will change: the default value of `keepdims` will become False, the `axis` over which the statistic is taken will be eliminated, and the value None will no longer be accepted. Set `keepdims` to True or False to avoid this warning.\n",
                        "  print(stats.mode(num))\n"
                    ]
                }
            ],
            "source": [
                "#import libraries and print the mode\n",
                "from scipy import stats\n",
                "\n",
                "\n",
                "# Mode for continuous array\n",
                "print(stats.mode(num))"
            ]
        },
        {
            "cell_type": "code",
            "execution_count": 10,
            "id": "c682cb6e",
            "metadata": {},
            "outputs": [
                {
                    "data": {
                        "text/plain": [
                            "0.13231990598237597"
                        ]
                    },
                    "execution_count": 10,
                    "metadata": {},
                    "output_type": "execute_result"
                }
            ],
            "source": [
                "# Median\n",
                "np.median(num)"
            ]
        },
        {
            "cell_type": "code",
            "execution_count": 13,
            "id": "39c3fabd",
            "metadata": {},
            "outputs": [
                {
                    "data": {
                        "text/plain": [
                            "array([-38.01378197,  -6.62011769,   0.13231991,   6.58823523,\n",
                            "        35.71579218])"
                        ]
                    },
                    "execution_count": 13,
                    "metadata": {},
                    "output_type": "execute_result"
                }
            ],
            "source": [
                "# Print the Quantiles\n",
                "np.quantile(num, [0,0.25,0.5,0.75,1])\n",
                "\n",
                "# This match with np.median, why?\n",
                "#That's because the Q2 is the accumulation of the %50 of the values and the mean is the value that divides the total into two equal parts "
            ]
        },
        {
            "cell_type": "markdown",
            "id": "46c70c3d",
            "metadata": {},
            "source": [
                "### Exercise 2\n",
                "\n",
                "Write a Python program to calculate the standard deviation of the following data:\n",
                "```py\n",
                "data = [4, 2, 5, 8, 6]\n",
                "```"
            ]
        },
        {
            "cell_type": "code",
            "execution_count": 14,
            "id": "d590308e",
            "metadata": {},
            "outputs": [
                {
                    "name": "stdout",
                    "output_type": "stream",
                    "text": [
                        "Sample Data:  [4, 2, 5, 8, 6]\n",
                        "Standard Deviation :  2.23606797749979\n"
                    ]
                }
            ],
            "source": [
                "import math\n",
                "import sys\n",
                "\n",
                "# Define the standard deviation function\n",
                "def sd_calc(data):\n",
                "    #code here\n",
                "    n = len(data)\n",
                "\n",
                "    if n <= 1:\n",
                "        return 0.0\n",
                "\n",
                "    mean, sd = avg_calc(data), 0.0\n",
                "\n",
                "    # calculate stan. dev.\n",
                "    for el in data:\n",
                "        sd += (float(el) - mean)**2\n",
                "    sd = math.sqrt(sd / float(n-1))\n",
                "\n",
                "    return sd\n",
                "\n",
                "\n",
                "\n",
                "# Define the average function\n",
                "def avg_calc(ls):\n",
                "    #code here\n",
                "    n, mean = len(ls), 0.0\n",
                "\n",
                "    if n <= 1:\n",
                "        return ls[0]\n",
                "\n",
                "    # calculate average\n",
                "    for el in ls:\n",
                "        mean = mean + float(el)\n",
                "    mean = mean / float(n)\n",
                "\n",
                "    return mean\n",
                "\n",
                "\n",
                "data = [4, 2, 5, 8, 6]\n",
                "print(\"Sample Data: \", data)\n",
                "print(\"Standard Deviation : \",sd_calc(data))"
            ]
        },
        {
            "cell_type": "markdown",
            "id": "04b71791",
            "metadata": {},
            "source": [
                "Source:\n",
                "\n",
                "https://www.w3resource.com/"
            ]
        }
    ],
    "metadata": {
        "kernelspec": {
            "display_name": "Python 3.8.13 64-bit ('3.8.13')",
            "language": "python",
            "name": "python3"
        },
        "language_info": {
            "codemirror_mode": {
                "name": "ipython",
                "version": 3
            },
            "file_extension": ".py",
            "mimetype": "text/x-python",
            "name": "python",
            "nbconvert_exporter": "python",
            "pygments_lexer": "ipython3",
            "version": "3.8.13"
        },
        "vscode": {
            "interpreter": {
                "hash": "110cc1dee26208153f2972f08a2ad52b6a56238dc66d48e87fb757ef2996db56"
            }
        }
    },
    "nbformat": 4,
    "nbformat_minor": 5
}
